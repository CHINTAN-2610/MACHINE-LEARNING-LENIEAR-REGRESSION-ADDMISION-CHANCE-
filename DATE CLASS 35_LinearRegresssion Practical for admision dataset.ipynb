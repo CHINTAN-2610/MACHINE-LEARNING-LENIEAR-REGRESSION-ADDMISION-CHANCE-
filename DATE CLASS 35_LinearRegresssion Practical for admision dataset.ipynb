{
 "cells": [
  {
   "cell_type": "markdown",
   "id": "dbe81c9d",
   "metadata": {},
   "source": [
    "## LinearRegression() and Regulization model with Lasso(),Ridge(),ElasticNet()"
   ]
  },
  {
   "cell_type": "markdown",
   "id": "490548fc",
   "metadata": {},
   "source": [
    "1. Basic EDA and Feature Selection techniques are used.\n",
    "2. Pandas Profilling used to understand relationship for features with label \n"
   ]
  },
  {
   "cell_type": "markdown",
   "id": "b1d6b20d",
   "metadata": {},
   "source": [
    "## About Dataset\n",
    "1. dataset is about getting chance of admision into university based on students GPA,Toffel score,\n",
    "   university rating, reserch work is done or not , CGPA , SOP and LOR(letter of recomodation)"
   ]
  },
  {
   "cell_type": "markdown",
   "id": "85d94fb1",
   "metadata": {},
   "source": [
    "## Importing library"
   ]
  },
  {
   "cell_type": "code",
   "execution_count": 1,
   "id": "995373a5",
   "metadata": {},
   "outputs": [],
   "source": [
    "import pandas as pd\n",
    "import matplotlib.pyplot as plt\n",
    "%matplotlib inline\n",
    "import pickle\n",
    "from pandas_profiling import ProfileReport\n",
    "import numpy as np\n",
    "import statsmodels.formula.api as smf\n",
    "from sklearn.preprocessing import StandardScaler\n",
    "from sklearn.model_selection import train_test_split\n"
   ]
  },
  {
   "cell_type": "code",
   "execution_count": 2,
   "id": "53ba88bd",
   "metadata": {},
   "outputs": [],
   "source": [
    "df = pd.read_csv(\"Admission_Prediction.csv\")"
   ]
  },
  {
   "cell_type": "code",
   "execution_count": 3,
   "id": "4c82b2f4",
   "metadata": {},
   "outputs": [
    {
     "data": {
      "text/html": [
       "<div>\n",
       "<style scoped>\n",
       "    .dataframe tbody tr th:only-of-type {\n",
       "        vertical-align: middle;\n",
       "    }\n",
       "\n",
       "    .dataframe tbody tr th {\n",
       "        vertical-align: top;\n",
       "    }\n",
       "\n",
       "    .dataframe thead th {\n",
       "        text-align: right;\n",
       "    }\n",
       "</style>\n",
       "<table border=\"1\" class=\"dataframe\">\n",
       "  <thead>\n",
       "    <tr style=\"text-align: right;\">\n",
       "      <th></th>\n",
       "      <th>Serial No.</th>\n",
       "      <th>GRE Score</th>\n",
       "      <th>TOEFL Score</th>\n",
       "      <th>University Rating</th>\n",
       "      <th>SOP</th>\n",
       "      <th>LOR</th>\n",
       "      <th>CGPA</th>\n",
       "      <th>Research</th>\n",
       "      <th>Chance of Admit</th>\n",
       "    </tr>\n",
       "  </thead>\n",
       "  <tbody>\n",
       "    <tr>\n",
       "      <th>0</th>\n",
       "      <td>1</td>\n",
       "      <td>337.0</td>\n",
       "      <td>118.0</td>\n",
       "      <td>4.0</td>\n",
       "      <td>4.5</td>\n",
       "      <td>4.5</td>\n",
       "      <td>9.65</td>\n",
       "      <td>1</td>\n",
       "      <td>0.92</td>\n",
       "    </tr>\n",
       "    <tr>\n",
       "      <th>1</th>\n",
       "      <td>2</td>\n",
       "      <td>324.0</td>\n",
       "      <td>107.0</td>\n",
       "      <td>4.0</td>\n",
       "      <td>4.0</td>\n",
       "      <td>4.5</td>\n",
       "      <td>8.87</td>\n",
       "      <td>1</td>\n",
       "      <td>0.76</td>\n",
       "    </tr>\n",
       "    <tr>\n",
       "      <th>2</th>\n",
       "      <td>3</td>\n",
       "      <td>NaN</td>\n",
       "      <td>104.0</td>\n",
       "      <td>3.0</td>\n",
       "      <td>3.0</td>\n",
       "      <td>3.5</td>\n",
       "      <td>8.00</td>\n",
       "      <td>1</td>\n",
       "      <td>0.72</td>\n",
       "    </tr>\n",
       "    <tr>\n",
       "      <th>3</th>\n",
       "      <td>4</td>\n",
       "      <td>322.0</td>\n",
       "      <td>110.0</td>\n",
       "      <td>3.0</td>\n",
       "      <td>3.5</td>\n",
       "      <td>2.5</td>\n",
       "      <td>8.67</td>\n",
       "      <td>1</td>\n",
       "      <td>0.80</td>\n",
       "    </tr>\n",
       "    <tr>\n",
       "      <th>4</th>\n",
       "      <td>5</td>\n",
       "      <td>314.0</td>\n",
       "      <td>103.0</td>\n",
       "      <td>2.0</td>\n",
       "      <td>2.0</td>\n",
       "      <td>3.0</td>\n",
       "      <td>8.21</td>\n",
       "      <td>0</td>\n",
       "      <td>0.65</td>\n",
       "    </tr>\n",
       "  </tbody>\n",
       "</table>\n",
       "</div>"
      ],
      "text/plain": [
       "   Serial No.  GRE Score  TOEFL Score  University Rating  SOP  LOR  CGPA  \\\n",
       "0           1      337.0        118.0                4.0  4.5  4.5  9.65   \n",
       "1           2      324.0        107.0                4.0  4.0  4.5  8.87   \n",
       "2           3        NaN        104.0                3.0  3.0  3.5  8.00   \n",
       "3           4      322.0        110.0                3.0  3.5  2.5  8.67   \n",
       "4           5      314.0        103.0                2.0  2.0  3.0  8.21   \n",
       "\n",
       "   Research  Chance of Admit  \n",
       "0         1             0.92  \n",
       "1         1             0.76  \n",
       "2         1             0.72  \n",
       "3         1             0.80  \n",
       "4         0             0.65  "
      ]
     },
     "execution_count": 3,
     "metadata": {},
     "output_type": "execute_result"
    }
   ],
   "source": [
    "df.head()"
   ]
  },
  {
   "cell_type": "markdown",
   "id": "45944fb6",
   "metadata": {},
   "source": [
    "#### Understanding dataset or each features\n",
    "1. Here regression probelm because contineous output where chance of addmision is given for students\n",
    "2. Each features can be understand from its columns name where serial number is not usefull for us"
   ]
  },
  {
   "cell_type": "code",
   "execution_count": 4,
   "id": "85f7a16e",
   "metadata": {},
   "outputs": [],
   "source": [
    "#### Pandas Profie report\n",
    "report = ProfileReport(df)"
   ]
  },
  {
   "cell_type": "code",
   "execution_count": 5,
   "id": "d27674fe",
   "metadata": {},
   "outputs": [
    {
     "data": {
      "application/vnd.jupyter.widget-view+json": {
       "model_id": "af0b75df62754c90be5c34ab61466775",
       "version_major": 2,
       "version_minor": 0
      },
      "text/plain": [
       "Summarize dataset:   0%|          | 0/22 [00:00<?, ?it/s]"
      ]
     },
     "metadata": {},
     "output_type": "display_data"
    },
    {
     "data": {
      "application/vnd.jupyter.widget-view+json": {
       "model_id": "ca16ee57b3db48869c5710200086fcc9",
       "version_major": 2,
       "version_minor": 0
      },
      "text/plain": [
       "Generate report structure:   0%|          | 0/1 [00:00<?, ?it/s]"
      ]
     },
     "metadata": {},
     "output_type": "display_data"
    },
    {
     "data": {
      "application/vnd.jupyter.widget-view+json": {
       "model_id": "",
       "version_major": 2,
       "version_minor": 0
      },
      "text/plain": [
       "Render widgets:   0%|          | 0/1 [00:00<?, ?it/s]"
      ]
     },
     "metadata": {},
     "output_type": "display_data"
    },
    {
     "data": {
      "application/vnd.jupyter.widget-view+json": {
       "model_id": "88c3aa020054450090b7365830cbde9d",
       "version_major": 2,
       "version_minor": 0
      },
      "text/plain": [
       "VBox(children=(Tab(children=(Tab(children=(GridBox(children=(VBox(children=(GridspecLayout(children=(HTML(valu…"
      ]
     },
     "metadata": {},
     "output_type": "display_data"
    }
   ],
   "source": [
    "report.to_widgets()"
   ]
  },
  {
   "cell_type": "markdown",
   "id": "2b19dccc",
   "metadata": {},
   "source": [
    "#### Profile Report \n",
    "1. Serial number and reserch are catogerical feature\n",
    "2. there are many null values present in dataset\n",
    "3. missing values are present in GRE and Tofel scaore\n"
   ]
  },
  {
   "cell_type": "markdown",
   "id": "1e485375",
   "metadata": {},
   "source": [
    "#### Why linear regression used\n",
    "1. check relationship with feature and label where generalized relationship is linearity \n",
    "2. than check relationship among features\n",
    "3. afterward checking pearson relationship where multicolinearity can be observed but it is not more    than 90% which means acceptable. Moreover it can be varified using VIF values"
   ]
  },
  {
   "cell_type": "markdown",
   "id": "d2a6a1d7",
   "metadata": {},
   "source": [
    "## Replacing Null values with mean value of particular featues\n",
    "1. There are many ways to replace null values but here used most common one\n"
   ]
  },
  {
   "cell_type": "code",
   "execution_count": 6,
   "id": "cd28ac58",
   "metadata": {},
   "outputs": [],
   "source": [
    "#GER SCORE\n",
    "df[\"GRE Score\"] = df[\"GRE Score\"].fillna(df[\"GRE Score\"].mean())"
   ]
  },
  {
   "cell_type": "code",
   "execution_count": 7,
   "id": "cccab4e9",
   "metadata": {},
   "outputs": [],
   "source": [
    "df[\"TOEFL Score\"] = df[\"TOEFL Score\"].fillna(df[\"TOEFL Score\"].mean())"
   ]
  },
  {
   "cell_type": "code",
   "execution_count": 8,
   "id": "dce5d7c7",
   "metadata": {},
   "outputs": [],
   "source": [
    "df[\"University Rating\"] = df[\"University Rating\"].fillna(df[\"University Rating\"].mean())"
   ]
  },
  {
   "cell_type": "code",
   "execution_count": 9,
   "id": "c9749643",
   "metadata": {},
   "outputs": [
    {
     "data": {
      "text/html": [
       "<div>\n",
       "<style scoped>\n",
       "    .dataframe tbody tr th:only-of-type {\n",
       "        vertical-align: middle;\n",
       "    }\n",
       "\n",
       "    .dataframe tbody tr th {\n",
       "        vertical-align: top;\n",
       "    }\n",
       "\n",
       "    .dataframe thead th {\n",
       "        text-align: right;\n",
       "    }\n",
       "</style>\n",
       "<table border=\"1\" class=\"dataframe\">\n",
       "  <thead>\n",
       "    <tr style=\"text-align: right;\">\n",
       "      <th></th>\n",
       "      <th>Serial No.</th>\n",
       "      <th>GRE Score</th>\n",
       "      <th>TOEFL Score</th>\n",
       "      <th>University Rating</th>\n",
       "      <th>SOP</th>\n",
       "      <th>LOR</th>\n",
       "      <th>CGPA</th>\n",
       "      <th>Research</th>\n",
       "      <th>Chance of Admit</th>\n",
       "    </tr>\n",
       "  </thead>\n",
       "  <tbody>\n",
       "    <tr>\n",
       "      <th>count</th>\n",
       "      <td>500.000000</td>\n",
       "      <td>500.000000</td>\n",
       "      <td>500.000000</td>\n",
       "      <td>500.000000</td>\n",
       "      <td>500.000000</td>\n",
       "      <td>500.00000</td>\n",
       "      <td>500.000000</td>\n",
       "      <td>500.000000</td>\n",
       "      <td>500.00000</td>\n",
       "    </tr>\n",
       "    <tr>\n",
       "      <th>mean</th>\n",
       "      <td>250.500000</td>\n",
       "      <td>316.558763</td>\n",
       "      <td>107.187755</td>\n",
       "      <td>3.121649</td>\n",
       "      <td>3.374000</td>\n",
       "      <td>3.48400</td>\n",
       "      <td>8.576440</td>\n",
       "      <td>0.560000</td>\n",
       "      <td>0.72174</td>\n",
       "    </tr>\n",
       "    <tr>\n",
       "      <th>std</th>\n",
       "      <td>144.481833</td>\n",
       "      <td>11.103952</td>\n",
       "      <td>6.051338</td>\n",
       "      <td>1.128802</td>\n",
       "      <td>0.991004</td>\n",
       "      <td>0.92545</td>\n",
       "      <td>0.604813</td>\n",
       "      <td>0.496884</td>\n",
       "      <td>0.14114</td>\n",
       "    </tr>\n",
       "    <tr>\n",
       "      <th>min</th>\n",
       "      <td>1.000000</td>\n",
       "      <td>290.000000</td>\n",
       "      <td>92.000000</td>\n",
       "      <td>1.000000</td>\n",
       "      <td>1.000000</td>\n",
       "      <td>1.00000</td>\n",
       "      <td>6.800000</td>\n",
       "      <td>0.000000</td>\n",
       "      <td>0.34000</td>\n",
       "    </tr>\n",
       "    <tr>\n",
       "      <th>25%</th>\n",
       "      <td>125.750000</td>\n",
       "      <td>309.000000</td>\n",
       "      <td>103.000000</td>\n",
       "      <td>2.000000</td>\n",
       "      <td>2.500000</td>\n",
       "      <td>3.00000</td>\n",
       "      <td>8.127500</td>\n",
       "      <td>0.000000</td>\n",
       "      <td>0.63000</td>\n",
       "    </tr>\n",
       "    <tr>\n",
       "      <th>50%</th>\n",
       "      <td>250.500000</td>\n",
       "      <td>316.558763</td>\n",
       "      <td>107.000000</td>\n",
       "      <td>3.000000</td>\n",
       "      <td>3.500000</td>\n",
       "      <td>3.50000</td>\n",
       "      <td>8.560000</td>\n",
       "      <td>1.000000</td>\n",
       "      <td>0.72000</td>\n",
       "    </tr>\n",
       "    <tr>\n",
       "      <th>75%</th>\n",
       "      <td>375.250000</td>\n",
       "      <td>324.000000</td>\n",
       "      <td>112.000000</td>\n",
       "      <td>4.000000</td>\n",
       "      <td>4.000000</td>\n",
       "      <td>4.00000</td>\n",
       "      <td>9.040000</td>\n",
       "      <td>1.000000</td>\n",
       "      <td>0.82000</td>\n",
       "    </tr>\n",
       "    <tr>\n",
       "      <th>max</th>\n",
       "      <td>500.000000</td>\n",
       "      <td>340.000000</td>\n",
       "      <td>120.000000</td>\n",
       "      <td>5.000000</td>\n",
       "      <td>5.000000</td>\n",
       "      <td>5.00000</td>\n",
       "      <td>9.920000</td>\n",
       "      <td>1.000000</td>\n",
       "      <td>0.97000</td>\n",
       "    </tr>\n",
       "  </tbody>\n",
       "</table>\n",
       "</div>"
      ],
      "text/plain": [
       "       Serial No.   GRE Score  TOEFL Score  University Rating         SOP  \\\n",
       "count  500.000000  500.000000   500.000000         500.000000  500.000000   \n",
       "mean   250.500000  316.558763   107.187755           3.121649    3.374000   \n",
       "std    144.481833   11.103952     6.051338           1.128802    0.991004   \n",
       "min      1.000000  290.000000    92.000000           1.000000    1.000000   \n",
       "25%    125.750000  309.000000   103.000000           2.000000    2.500000   \n",
       "50%    250.500000  316.558763   107.000000           3.000000    3.500000   \n",
       "75%    375.250000  324.000000   112.000000           4.000000    4.000000   \n",
       "max    500.000000  340.000000   120.000000           5.000000    5.000000   \n",
       "\n",
       "             LOR        CGPA    Research  Chance of Admit  \n",
       "count  500.00000  500.000000  500.000000        500.00000  \n",
       "mean     3.48400    8.576440    0.560000          0.72174  \n",
       "std      0.92545    0.604813    0.496884          0.14114  \n",
       "min      1.00000    6.800000    0.000000          0.34000  \n",
       "25%      3.00000    8.127500    0.000000          0.63000  \n",
       "50%      3.50000    8.560000    1.000000          0.72000  \n",
       "75%      4.00000    9.040000    1.000000          0.82000  \n",
       "max      5.00000    9.920000    1.000000          0.97000  "
      ]
     },
     "execution_count": 9,
     "metadata": {},
     "output_type": "execute_result"
    }
   ],
   "source": [
    "df.describe()"
   ]
  },
  {
   "cell_type": "markdown",
   "id": "7831b456",
   "metadata": {},
   "source": [
    "## Removing unneccessory columns form dataset"
   ]
  },
  {
   "cell_type": "code",
   "execution_count": 10,
   "id": "8e7519dd",
   "metadata": {},
   "outputs": [],
   "source": [
    "df.drop(\"Serial No.\" , inplace=True , axis = 1)"
   ]
  },
  {
   "cell_type": "code",
   "execution_count": 11,
   "id": "193f2f02",
   "metadata": {},
   "outputs": [
    {
     "data": {
      "text/html": [
       "<div>\n",
       "<style scoped>\n",
       "    .dataframe tbody tr th:only-of-type {\n",
       "        vertical-align: middle;\n",
       "    }\n",
       "\n",
       "    .dataframe tbody tr th {\n",
       "        vertical-align: top;\n",
       "    }\n",
       "\n",
       "    .dataframe thead th {\n",
       "        text-align: right;\n",
       "    }\n",
       "</style>\n",
       "<table border=\"1\" class=\"dataframe\">\n",
       "  <thead>\n",
       "    <tr style=\"text-align: right;\">\n",
       "      <th></th>\n",
       "      <th>GRE Score</th>\n",
       "      <th>TOEFL Score</th>\n",
       "      <th>University Rating</th>\n",
       "      <th>SOP</th>\n",
       "      <th>LOR</th>\n",
       "      <th>CGPA</th>\n",
       "      <th>Research</th>\n",
       "      <th>Chance of Admit</th>\n",
       "    </tr>\n",
       "  </thead>\n",
       "  <tbody>\n",
       "    <tr>\n",
       "      <th>0</th>\n",
       "      <td>337.000000</td>\n",
       "      <td>118.0</td>\n",
       "      <td>4.0</td>\n",
       "      <td>4.5</td>\n",
       "      <td>4.5</td>\n",
       "      <td>9.65</td>\n",
       "      <td>1</td>\n",
       "      <td>0.92</td>\n",
       "    </tr>\n",
       "    <tr>\n",
       "      <th>1</th>\n",
       "      <td>324.000000</td>\n",
       "      <td>107.0</td>\n",
       "      <td>4.0</td>\n",
       "      <td>4.0</td>\n",
       "      <td>4.5</td>\n",
       "      <td>8.87</td>\n",
       "      <td>1</td>\n",
       "      <td>0.76</td>\n",
       "    </tr>\n",
       "    <tr>\n",
       "      <th>2</th>\n",
       "      <td>316.558763</td>\n",
       "      <td>104.0</td>\n",
       "      <td>3.0</td>\n",
       "      <td>3.0</td>\n",
       "      <td>3.5</td>\n",
       "      <td>8.00</td>\n",
       "      <td>1</td>\n",
       "      <td>0.72</td>\n",
       "    </tr>\n",
       "    <tr>\n",
       "      <th>3</th>\n",
       "      <td>322.000000</td>\n",
       "      <td>110.0</td>\n",
       "      <td>3.0</td>\n",
       "      <td>3.5</td>\n",
       "      <td>2.5</td>\n",
       "      <td>8.67</td>\n",
       "      <td>1</td>\n",
       "      <td>0.80</td>\n",
       "    </tr>\n",
       "    <tr>\n",
       "      <th>4</th>\n",
       "      <td>314.000000</td>\n",
       "      <td>103.0</td>\n",
       "      <td>2.0</td>\n",
       "      <td>2.0</td>\n",
       "      <td>3.0</td>\n",
       "      <td>8.21</td>\n",
       "      <td>0</td>\n",
       "      <td>0.65</td>\n",
       "    </tr>\n",
       "  </tbody>\n",
       "</table>\n",
       "</div>"
      ],
      "text/plain": [
       "    GRE Score  TOEFL Score  University Rating  SOP  LOR  CGPA  Research  \\\n",
       "0  337.000000        118.0                4.0  4.5  4.5  9.65         1   \n",
       "1  324.000000        107.0                4.0  4.0  4.5  8.87         1   \n",
       "2  316.558763        104.0                3.0  3.0  3.5  8.00         1   \n",
       "3  322.000000        110.0                3.0  3.5  2.5  8.67         1   \n",
       "4  314.000000        103.0                2.0  2.0  3.0  8.21         0   \n",
       "\n",
       "   Chance of Admit  \n",
       "0             0.92  \n",
       "1             0.76  \n",
       "2             0.72  \n",
       "3             0.80  \n",
       "4             0.65  "
      ]
     },
     "execution_count": 11,
     "metadata": {},
     "output_type": "execute_result"
    }
   ],
   "source": [
    "df.head()"
   ]
  },
  {
   "cell_type": "markdown",
   "id": "1d71b86f",
   "metadata": {},
   "source": [
    "## Defining Feature and label"
   ]
  },
  {
   "cell_type": "code",
   "execution_count": 12,
   "id": "23e37174",
   "metadata": {},
   "outputs": [],
   "source": [
    "x = df.drop(\"Chance of Admit\" , axis = 1)\n",
    "y = df[\"Chance of Admit\"]\n"
   ]
  },
  {
   "cell_type": "markdown",
   "id": "0dfefb2c",
   "metadata": {},
   "source": [
    "## Standerdize Dataset using StandardScaler()"
   ]
  },
  {
   "cell_type": "code",
   "execution_count": 13,
   "id": "f12a2b29",
   "metadata": {},
   "outputs": [],
   "source": [
    "st_sc = StandardScaler()"
   ]
  },
  {
   "cell_type": "code",
   "execution_count": 14,
   "id": "596edf92",
   "metadata": {},
   "outputs": [],
   "source": [
    "ary = st_sc.fit_transform(x)"
   ]
  },
  {
   "cell_type": "code",
   "execution_count": 15,
   "id": "dac36e9c",
   "metadata": {},
   "outputs": [
    {
     "data": {
      "text/plain": [
       "array([[ 1.84274116e+00,  1.78854223e+00,  7.78905651e-01, ...,\n",
       "         1.09894429e+00,  1.77680627e+00,  8.86405260e-01],\n",
       "       [ 6.70814288e-01, -3.10581135e-02,  7.78905651e-01, ...,\n",
       "         1.09894429e+00,  4.85859428e-01,  8.86405260e-01],\n",
       "       [ 5.12433309e-15, -5.27312752e-01, -1.07876604e-01, ...,\n",
       "         1.73062093e-02, -9.54042814e-01,  8.86405260e-01],\n",
       "       ...,\n",
       "       [ 1.21170361e+00,  2.11937866e+00,  1.66568791e+00, ...,\n",
       "         1.63976333e+00,  1.62785086e+00,  8.86405260e-01],\n",
       "       [-4.10964364e-01, -6.92730965e-01,  7.78905651e-01, ...,\n",
       "         1.63976333e+00, -2.42366993e-01, -1.12815215e+00],\n",
       "       [ 9.41258951e-01,  9.61451165e-01,  7.78905651e-01, ...,\n",
       "         1.09894429e+00,  7.67219636e-01, -1.12815215e+00]])"
      ]
     },
     "execution_count": 15,
     "metadata": {},
     "output_type": "execute_result"
    }
   ],
   "source": [
    "ary"
   ]
  },
  {
   "cell_type": "code",
   "execution_count": 16,
   "id": "4029ca7c",
   "metadata": {},
   "outputs": [],
   "source": [
    "df1 = pd.DataFrame(ary , columns=x.columns)"
   ]
  },
  {
   "cell_type": "code",
   "execution_count": 17,
   "id": "a1aa04af",
   "metadata": {},
   "outputs": [
    {
     "data": {
      "text/html": [
       "<div>\n",
       "<style scoped>\n",
       "    .dataframe tbody tr th:only-of-type {\n",
       "        vertical-align: middle;\n",
       "    }\n",
       "\n",
       "    .dataframe tbody tr th {\n",
       "        vertical-align: top;\n",
       "    }\n",
       "\n",
       "    .dataframe thead th {\n",
       "        text-align: right;\n",
       "    }\n",
       "</style>\n",
       "<table border=\"1\" class=\"dataframe\">\n",
       "  <thead>\n",
       "    <tr style=\"text-align: right;\">\n",
       "      <th></th>\n",
       "      <th>GRE Score</th>\n",
       "      <th>TOEFL Score</th>\n",
       "      <th>University Rating</th>\n",
       "      <th>SOP</th>\n",
       "      <th>LOR</th>\n",
       "      <th>CGPA</th>\n",
       "      <th>Research</th>\n",
       "    </tr>\n",
       "  </thead>\n",
       "  <tbody>\n",
       "    <tr>\n",
       "      <th>0</th>\n",
       "      <td>1.842741e+00</td>\n",
       "      <td>1.788542</td>\n",
       "      <td>0.778906</td>\n",
       "      <td>1.137360</td>\n",
       "      <td>1.098944</td>\n",
       "      <td>1.776806</td>\n",
       "      <td>0.886405</td>\n",
       "    </tr>\n",
       "    <tr>\n",
       "      <th>1</th>\n",
       "      <td>6.708143e-01</td>\n",
       "      <td>-0.031058</td>\n",
       "      <td>0.778906</td>\n",
       "      <td>0.632315</td>\n",
       "      <td>1.098944</td>\n",
       "      <td>0.485859</td>\n",
       "      <td>0.886405</td>\n",
       "    </tr>\n",
       "    <tr>\n",
       "      <th>2</th>\n",
       "      <td>5.124333e-15</td>\n",
       "      <td>-0.527313</td>\n",
       "      <td>-0.107877</td>\n",
       "      <td>-0.377773</td>\n",
       "      <td>0.017306</td>\n",
       "      <td>-0.954043</td>\n",
       "      <td>0.886405</td>\n",
       "    </tr>\n",
       "    <tr>\n",
       "      <th>3</th>\n",
       "      <td>4.905178e-01</td>\n",
       "      <td>0.465197</td>\n",
       "      <td>-0.107877</td>\n",
       "      <td>0.127271</td>\n",
       "      <td>-1.064332</td>\n",
       "      <td>0.154847</td>\n",
       "      <td>0.886405</td>\n",
       "    </tr>\n",
       "    <tr>\n",
       "      <th>4</th>\n",
       "      <td>-2.306679e-01</td>\n",
       "      <td>-0.692731</td>\n",
       "      <td>-0.994659</td>\n",
       "      <td>-1.387862</td>\n",
       "      <td>-0.523513</td>\n",
       "      <td>-0.606480</td>\n",
       "      <td>-1.128152</td>\n",
       "    </tr>\n",
       "    <tr>\n",
       "      <th>...</th>\n",
       "      <td>...</td>\n",
       "      <td>...</td>\n",
       "      <td>...</td>\n",
       "      <td>...</td>\n",
       "      <td>...</td>\n",
       "      <td>...</td>\n",
       "      <td>...</td>\n",
       "    </tr>\n",
       "    <tr>\n",
       "      <th>495</th>\n",
       "      <td>1.392000e+00</td>\n",
       "      <td>0.134360</td>\n",
       "      <td>1.665688</td>\n",
       "      <td>1.137360</td>\n",
       "      <td>0.558125</td>\n",
       "      <td>0.734118</td>\n",
       "      <td>0.886405</td>\n",
       "    </tr>\n",
       "    <tr>\n",
       "      <th>496</th>\n",
       "      <td>1.842741e+00</td>\n",
       "      <td>1.623124</td>\n",
       "      <td>1.665688</td>\n",
       "      <td>1.642404</td>\n",
       "      <td>1.639763</td>\n",
       "      <td>2.140919</td>\n",
       "      <td>0.886405</td>\n",
       "    </tr>\n",
       "    <tr>\n",
       "      <th>497</th>\n",
       "      <td>1.211704e+00</td>\n",
       "      <td>2.119379</td>\n",
       "      <td>1.665688</td>\n",
       "      <td>1.137360</td>\n",
       "      <td>1.639763</td>\n",
       "      <td>1.627851</td>\n",
       "      <td>0.886405</td>\n",
       "    </tr>\n",
       "    <tr>\n",
       "      <th>498</th>\n",
       "      <td>-4.109644e-01</td>\n",
       "      <td>-0.692731</td>\n",
       "      <td>0.778906</td>\n",
       "      <td>0.632315</td>\n",
       "      <td>1.639763</td>\n",
       "      <td>-0.242367</td>\n",
       "      <td>-1.128152</td>\n",
       "    </tr>\n",
       "    <tr>\n",
       "      <th>499</th>\n",
       "      <td>9.412590e-01</td>\n",
       "      <td>0.961451</td>\n",
       "      <td>0.778906</td>\n",
       "      <td>1.137360</td>\n",
       "      <td>1.098944</td>\n",
       "      <td>0.767220</td>\n",
       "      <td>-1.128152</td>\n",
       "    </tr>\n",
       "  </tbody>\n",
       "</table>\n",
       "<p>500 rows × 7 columns</p>\n",
       "</div>"
      ],
      "text/plain": [
       "        GRE Score  TOEFL Score  University Rating       SOP       LOR  \\\n",
       "0    1.842741e+00     1.788542           0.778906  1.137360  1.098944   \n",
       "1    6.708143e-01    -0.031058           0.778906  0.632315  1.098944   \n",
       "2    5.124333e-15    -0.527313          -0.107877 -0.377773  0.017306   \n",
       "3    4.905178e-01     0.465197          -0.107877  0.127271 -1.064332   \n",
       "4   -2.306679e-01    -0.692731          -0.994659 -1.387862 -0.523513   \n",
       "..            ...          ...                ...       ...       ...   \n",
       "495  1.392000e+00     0.134360           1.665688  1.137360  0.558125   \n",
       "496  1.842741e+00     1.623124           1.665688  1.642404  1.639763   \n",
       "497  1.211704e+00     2.119379           1.665688  1.137360  1.639763   \n",
       "498 -4.109644e-01    -0.692731           0.778906  0.632315  1.639763   \n",
       "499  9.412590e-01     0.961451           0.778906  1.137360  1.098944   \n",
       "\n",
       "         CGPA  Research  \n",
       "0    1.776806  0.886405  \n",
       "1    0.485859  0.886405  \n",
       "2   -0.954043  0.886405  \n",
       "3    0.154847  0.886405  \n",
       "4   -0.606480 -1.128152  \n",
       "..        ...       ...  \n",
       "495  0.734118  0.886405  \n",
       "496  2.140919  0.886405  \n",
       "497  1.627851  0.886405  \n",
       "498 -0.242367 -1.128152  \n",
       "499  0.767220 -1.128152  \n",
       "\n",
       "[500 rows x 7 columns]"
      ]
     },
     "execution_count": 17,
     "metadata": {},
     "output_type": "execute_result"
    }
   ],
   "source": [
    "df1"
   ]
  },
  {
   "cell_type": "code",
   "execution_count": 18,
   "id": "9c902c34",
   "metadata": {},
   "outputs": [
    {
     "data": {
      "text/html": [
       "<div>\n",
       "<style scoped>\n",
       "    .dataframe tbody tr th:only-of-type {\n",
       "        vertical-align: middle;\n",
       "    }\n",
       "\n",
       "    .dataframe tbody tr th {\n",
       "        vertical-align: top;\n",
       "    }\n",
       "\n",
       "    .dataframe thead th {\n",
       "        text-align: right;\n",
       "    }\n",
       "</style>\n",
       "<table border=\"1\" class=\"dataframe\">\n",
       "  <thead>\n",
       "    <tr style=\"text-align: right;\">\n",
       "      <th></th>\n",
       "      <th>GRE Score</th>\n",
       "      <th>TOEFL Score</th>\n",
       "      <th>University Rating</th>\n",
       "      <th>SOP</th>\n",
       "      <th>LOR</th>\n",
       "      <th>CGPA</th>\n",
       "      <th>Research</th>\n",
       "    </tr>\n",
       "  </thead>\n",
       "  <tbody>\n",
       "    <tr>\n",
       "      <th>count</th>\n",
       "      <td>5.000000e+02</td>\n",
       "      <td>5.000000e+02</td>\n",
       "      <td>5.000000e+02</td>\n",
       "      <td>5.000000e+02</td>\n",
       "      <td>5.000000e+02</td>\n",
       "      <td>5.000000e+02</td>\n",
       "      <td>5.000000e+02</td>\n",
       "    </tr>\n",
       "    <tr>\n",
       "      <th>mean</th>\n",
       "      <td>4.350520e-15</td>\n",
       "      <td>9.419132e-16</td>\n",
       "      <td>5.608847e-16</td>\n",
       "      <td>2.926548e-16</td>\n",
       "      <td>-1.332268e-17</td>\n",
       "      <td>3.091971e-15</td>\n",
       "      <td>-2.202682e-16</td>\n",
       "    </tr>\n",
       "    <tr>\n",
       "      <th>std</th>\n",
       "      <td>1.001002e+00</td>\n",
       "      <td>1.001002e+00</td>\n",
       "      <td>1.001002e+00</td>\n",
       "      <td>1.001002e+00</td>\n",
       "      <td>1.001002e+00</td>\n",
       "      <td>1.001002e+00</td>\n",
       "      <td>1.001002e+00</td>\n",
       "    </tr>\n",
       "    <tr>\n",
       "      <th>min</th>\n",
       "      <td>-2.394225e+00</td>\n",
       "      <td>-2.512331e+00</td>\n",
       "      <td>-1.881441e+00</td>\n",
       "      <td>-2.397950e+00</td>\n",
       "      <td>-2.686789e+00</td>\n",
       "      <td>-2.940115e+00</td>\n",
       "      <td>-1.128152e+00</td>\n",
       "    </tr>\n",
       "    <tr>\n",
       "      <th>25%</th>\n",
       "      <td>-6.814090e-01</td>\n",
       "      <td>-6.927310e-01</td>\n",
       "      <td>-9.946589e-01</td>\n",
       "      <td>-8.828175e-01</td>\n",
       "      <td>-5.235128e-01</td>\n",
       "      <td>-7.430227e-01</td>\n",
       "      <td>-1.128152e+00</td>\n",
       "    </tr>\n",
       "    <tr>\n",
       "      <th>50%</th>\n",
       "      <td>5.124333e-15</td>\n",
       "      <td>-3.105811e-02</td>\n",
       "      <td>-1.078766e-01</td>\n",
       "      <td>1.272712e-01</td>\n",
       "      <td>1.730621e-02</td>\n",
       "      <td>-2.720919e-02</td>\n",
       "      <td>8.864053e-01</td>\n",
       "    </tr>\n",
       "    <tr>\n",
       "      <th>75%</th>\n",
       "      <td>6.708143e-01</td>\n",
       "      <td>7.960330e-01</td>\n",
       "      <td>7.789057e-01</td>\n",
       "      <td>6.323155e-01</td>\n",
       "      <td>5.581253e-01</td>\n",
       "      <td>7.672196e-01</td>\n",
       "      <td>8.864053e-01</td>\n",
       "    </tr>\n",
       "    <tr>\n",
       "      <th>max</th>\n",
       "      <td>2.113186e+00</td>\n",
       "      <td>2.119379e+00</td>\n",
       "      <td>1.665688e+00</td>\n",
       "      <td>1.642404e+00</td>\n",
       "      <td>1.639763e+00</td>\n",
       "      <td>2.223672e+00</td>\n",
       "      <td>8.864053e-01</td>\n",
       "    </tr>\n",
       "  </tbody>\n",
       "</table>\n",
       "</div>"
      ],
      "text/plain": [
       "          GRE Score   TOEFL Score  University Rating           SOP  \\\n",
       "count  5.000000e+02  5.000000e+02       5.000000e+02  5.000000e+02   \n",
       "mean   4.350520e-15  9.419132e-16       5.608847e-16  2.926548e-16   \n",
       "std    1.001002e+00  1.001002e+00       1.001002e+00  1.001002e+00   \n",
       "min   -2.394225e+00 -2.512331e+00      -1.881441e+00 -2.397950e+00   \n",
       "25%   -6.814090e-01 -6.927310e-01      -9.946589e-01 -8.828175e-01   \n",
       "50%    5.124333e-15 -3.105811e-02      -1.078766e-01  1.272712e-01   \n",
       "75%    6.708143e-01  7.960330e-01       7.789057e-01  6.323155e-01   \n",
       "max    2.113186e+00  2.119379e+00       1.665688e+00  1.642404e+00   \n",
       "\n",
       "                LOR          CGPA      Research  \n",
       "count  5.000000e+02  5.000000e+02  5.000000e+02  \n",
       "mean  -1.332268e-17  3.091971e-15 -2.202682e-16  \n",
       "std    1.001002e+00  1.001002e+00  1.001002e+00  \n",
       "min   -2.686789e+00 -2.940115e+00 -1.128152e+00  \n",
       "25%   -5.235128e-01 -7.430227e-01 -1.128152e+00  \n",
       "50%    1.730621e-02 -2.720919e-02  8.864053e-01  \n",
       "75%    5.581253e-01  7.672196e-01  8.864053e-01  \n",
       "max    1.639763e+00  2.223672e+00  8.864053e-01  "
      ]
     },
     "execution_count": 18,
     "metadata": {},
     "output_type": "execute_result"
    }
   ],
   "source": [
    "df1.describe()   #Controlling range of data by scaller transformation using standerdization "
   ]
  },
  {
   "cell_type": "markdown",
   "id": "1a4d34d7",
   "metadata": {},
   "source": [
    "## Cheking Multicolinearity using Varince Influence Factor"
   ]
  },
  {
   "cell_type": "code",
   "execution_count": 19,
   "id": "9d16997b",
   "metadata": {},
   "outputs": [],
   "source": [
    "from statsmodels.stats.outliers_influence import variance_inflation_factor"
   ]
  },
  {
   "cell_type": "code",
   "execution_count": 20,
   "id": "1b03f0ac",
   "metadata": {},
   "outputs": [],
   "source": [
    "VIF = [variance_inflation_factor(ary , i) for i in range(0,ary.shape[1])]  #shape is indicating number of columns which is argument for VIF"
   ]
  },
  {
   "cell_type": "code",
   "execution_count": 21,
   "id": "83115fb3",
   "metadata": {},
   "outputs": [
    {
     "data": {
      "text/plain": [
       "[4.1532675722258245,\n",
       " 3.792866110594648,\n",
       " 2.508768242278763,\n",
       " 2.7757495092534956,\n",
       " 2.0373076624897517,\n",
       " 4.651669561154733,\n",
       " 1.4593106786827286]"
      ]
     },
     "execution_count": 21,
     "metadata": {},
     "output_type": "execute_result"
    }
   ],
   "source": [
    "VIF"
   ]
  },
  {
   "cell_type": "code",
   "execution_count": 22,
   "id": "cffccd21",
   "metadata": {},
   "outputs": [],
   "source": [
    "VIF_DataFrame = pd.DataFrame( VIF  )"
   ]
  },
  {
   "cell_type": "code",
   "execution_count": 23,
   "id": "7e8d7542",
   "metadata": {},
   "outputs": [],
   "source": [
    "VIF_DataFrame = VIF_DataFrame.rename({0:\"VIF\"} , axis = 1)"
   ]
  },
  {
   "cell_type": "code",
   "execution_count": 24,
   "id": "cc1efdd1",
   "metadata": {},
   "outputs": [],
   "source": [
    "VIF_DataFrame[\"Feature\"] = x.columns"
   ]
  },
  {
   "cell_type": "code",
   "execution_count": 25,
   "id": "d3d0866e",
   "metadata": {},
   "outputs": [
    {
     "data": {
      "text/html": [
       "<div>\n",
       "<style scoped>\n",
       "    .dataframe tbody tr th:only-of-type {\n",
       "        vertical-align: middle;\n",
       "    }\n",
       "\n",
       "    .dataframe tbody tr th {\n",
       "        vertical-align: top;\n",
       "    }\n",
       "\n",
       "    .dataframe thead th {\n",
       "        text-align: right;\n",
       "    }\n",
       "</style>\n",
       "<table border=\"1\" class=\"dataframe\">\n",
       "  <thead>\n",
       "    <tr style=\"text-align: right;\">\n",
       "      <th></th>\n",
       "      <th>VIF</th>\n",
       "      <th>Feature</th>\n",
       "    </tr>\n",
       "  </thead>\n",
       "  <tbody>\n",
       "    <tr>\n",
       "      <th>0</th>\n",
       "      <td>4.153268</td>\n",
       "      <td>GRE Score</td>\n",
       "    </tr>\n",
       "    <tr>\n",
       "      <th>1</th>\n",
       "      <td>3.792866</td>\n",
       "      <td>TOEFL Score</td>\n",
       "    </tr>\n",
       "    <tr>\n",
       "      <th>2</th>\n",
       "      <td>2.508768</td>\n",
       "      <td>University Rating</td>\n",
       "    </tr>\n",
       "    <tr>\n",
       "      <th>3</th>\n",
       "      <td>2.775750</td>\n",
       "      <td>SOP</td>\n",
       "    </tr>\n",
       "    <tr>\n",
       "      <th>4</th>\n",
       "      <td>2.037308</td>\n",
       "      <td>LOR</td>\n",
       "    </tr>\n",
       "    <tr>\n",
       "      <th>5</th>\n",
       "      <td>4.651670</td>\n",
       "      <td>CGPA</td>\n",
       "    </tr>\n",
       "    <tr>\n",
       "      <th>6</th>\n",
       "      <td>1.459311</td>\n",
       "      <td>Research</td>\n",
       "    </tr>\n",
       "  </tbody>\n",
       "</table>\n",
       "</div>"
      ],
      "text/plain": [
       "        VIF            Feature\n",
       "0  4.153268          GRE Score\n",
       "1  3.792866        TOEFL Score\n",
       "2  2.508768  University Rating\n",
       "3  2.775750                SOP\n",
       "4  2.037308                LOR\n",
       "5  4.651670               CGPA\n",
       "6  1.459311           Research"
      ]
     },
     "execution_count": 25,
     "metadata": {},
     "output_type": "execute_result"
    }
   ],
   "source": [
    "VIF_DataFrame"
   ]
  },
  {
   "cell_type": "markdown",
   "id": "fc3a626e",
   "metadata": {},
   "source": [
    "VIF is not crossing value of 10 for any features which means no need to drop any features"
   ]
  },
  {
   "cell_type": "markdown",
   "id": "e831c912",
   "metadata": {},
   "source": [
    "## Splliting dataset for testing and training perpose"
   ]
  },
  {
   "cell_type": "code",
   "execution_count": 26,
   "id": "d7f7d2f7",
   "metadata": {},
   "outputs": [],
   "source": [
    "#here test size is 10% and random_state is equavalent to seed argument in numpy and fix data which randomly choozen\n",
    "\n",
    "x_train ,x_test, y_train , y_test = train_test_split(ary , y , test_size = 0.10 ,  random_state = 100 )"
   ]
  },
  {
   "cell_type": "code",
   "execution_count": 27,
   "id": "19604bfc",
   "metadata": {},
   "outputs": [],
   "source": [
    "from sklearn.linear_model import LinearRegression\n",
    "\n",
    "lr1 = LinearRegression()"
   ]
  },
  {
   "cell_type": "code",
   "execution_count": 28,
   "id": "8369a8e1",
   "metadata": {},
   "outputs": [
    {
     "data": {
      "text/plain": [
       "LinearRegression()"
      ]
     },
     "execution_count": 28,
     "metadata": {},
     "output_type": "execute_result"
    }
   ],
   "source": [
    "lr1.fit(x_train , y_train)"
   ]
  },
  {
   "cell_type": "code",
   "execution_count": 29,
   "id": "75ff2a63",
   "metadata": {},
   "outputs": [
    {
     "data": {
      "text/plain": [
       "0.7204110140569641"
      ]
     },
     "execution_count": 29,
     "metadata": {},
     "output_type": "execute_result"
    }
   ],
   "source": [
    "lr1.intercept_"
   ]
  },
  {
   "cell_type": "code",
   "execution_count": 30,
   "id": "3cb813fc",
   "metadata": {},
   "outputs": [
    {
     "data": {
      "text/plain": [
       "array([ 0.01910105,  0.01654831,  0.00508326, -0.00047758,  0.01745071,\n",
       "        0.07526256,  0.0127209 ])"
      ]
     },
     "execution_count": 30,
     "metadata": {},
     "output_type": "execute_result"
    }
   ],
   "source": [
    "lr1.coef_"
   ]
  },
  {
   "cell_type": "markdown",
   "id": "0cd39c66",
   "metadata": {},
   "source": [
    "Above there are negative values near to zero whcih indicating non-performing columns and where p values can be checked"
   ]
  },
  {
   "cell_type": "markdown",
   "id": "cdebaf48",
   "metadata": {},
   "source": [
    "## Saving model with sav file "
   ]
  },
  {
   "cell_type": "code",
   "execution_count": 31,
   "id": "d36ec543",
   "metadata": {},
   "outputs": [],
   "source": [
    "pickle.dump(lr1 , open(\"Admission_Prediction.pickle\" , \"wb\"))"
   ]
  },
  {
   "cell_type": "code",
   "execution_count": 32,
   "id": "41d141e6",
   "metadata": {},
   "outputs": [
    {
     "name": "stdout",
     "output_type": "stream",
     "text": [
      " Volume in drive C is Acer\n",
      " Volume Serial Number is F807-28BB\n",
      "\n",
      " Directory of C:\\DATA SCIENCE STUDY DRIVE\\iNeuron DataScience Course\\Class Practice Note\\DATE CLASS 35_18_09_2021 Linear Regression Practicle\n",
      "\n",
      "25-09-2021  10:01    <DIR>          .\n",
      "25-09-2021  10:01    <DIR>          ..\n",
      "24-09-2021  18:10    <DIR>          .ipynb_checkpoints\n",
      "24-09-2021  22:08               560 Admission_Prediction\n",
      "27-12-2019  20:52            16,085 Admission_Prediction.csv\n",
      "25-09-2021  10:06               560 Admission_Prediction.pickle\n",
      "27-12-2019  20:52             4,756 Advertising.csv\n",
      "23-09-2021  17:16             1,394 DATE CLASS 35 Pickle Load for prediction.ipynb\n",
      "25-09-2021  10:01            62,546 DATE CLASS 35_LinearRegresssion Practical for admision dataset.ipynb\n",
      "24-09-2021  22:22         2,069,580 DATE CLASS 35_LinearRegresssion Practical for sales dataset.ipynb\n",
      "24-09-2021  20:51    <DIR>          GIVEN FILE\n",
      "24-09-2021  17:03               493 lr.sav\n",
      "               8 File(s)      2,155,974 bytes\n",
      "               4 Dir(s)  268,747,456,512 bytes free\n"
     ]
    }
   ],
   "source": [
    "ls"
   ]
  },
  {
   "cell_type": "markdown",
   "id": "2f2f12a1",
   "metadata": {},
   "source": [
    "## Prediction Of Dataset"
   ]
  },
  {
   "cell_type": "markdown",
   "id": "9450788d",
   "metadata": {},
   "source": [
    "First of all testing data must be scaled for correct predication values"
   ]
  },
  {
   "cell_type": "code",
   "execution_count": 33,
   "id": "92578558",
   "metadata": {},
   "outputs": [],
   "source": [
    "y_Predict = lr1.predict(x_test)"
   ]
  },
  {
   "cell_type": "code",
   "execution_count": 34,
   "id": "37abaea2",
   "metadata": {},
   "outputs": [],
   "source": [
    "Result = pd.DataFrame(y_Predict , columns=[\"y_Predict\"])"
   ]
  },
  {
   "cell_type": "code",
   "execution_count": 35,
   "id": "6db4a351",
   "metadata": {},
   "outputs": [],
   "source": [
    "y_test = y_test.reset_index(drop = True)"
   ]
  },
  {
   "cell_type": "code",
   "execution_count": 36,
   "id": "7273877e",
   "metadata": {},
   "outputs": [],
   "source": [
    "Result[\"Y_actual\"] = y_test"
   ]
  },
  {
   "cell_type": "code",
   "execution_count": 37,
   "id": "e670f6e7",
   "metadata": {},
   "outputs": [
    {
     "data": {
      "text/html": [
       "<div>\n",
       "<style scoped>\n",
       "    .dataframe tbody tr th:only-of-type {\n",
       "        vertical-align: middle;\n",
       "    }\n",
       "\n",
       "    .dataframe tbody tr th {\n",
       "        vertical-align: top;\n",
       "    }\n",
       "\n",
       "    .dataframe thead th {\n",
       "        text-align: right;\n",
       "    }\n",
       "</style>\n",
       "<table border=\"1\" class=\"dataframe\">\n",
       "  <thead>\n",
       "    <tr style=\"text-align: right;\">\n",
       "      <th></th>\n",
       "      <th>y_Predict</th>\n",
       "      <th>Y_actual</th>\n",
       "    </tr>\n",
       "  </thead>\n",
       "  <tbody>\n",
       "    <tr>\n",
       "      <th>0</th>\n",
       "      <td>0.858620</td>\n",
       "      <td>0.78</td>\n",
       "    </tr>\n",
       "    <tr>\n",
       "      <th>1</th>\n",
       "      <td>0.481191</td>\n",
       "      <td>0.54</td>\n",
       "    </tr>\n",
       "    <tr>\n",
       "      <th>2</th>\n",
       "      <td>0.634286</td>\n",
       "      <td>0.64</td>\n",
       "    </tr>\n",
       "    <tr>\n",
       "      <th>3</th>\n",
       "      <td>0.452133</td>\n",
       "      <td>0.47</td>\n",
       "    </tr>\n",
       "    <tr>\n",
       "      <th>4</th>\n",
       "      <td>0.651258</td>\n",
       "      <td>0.70</td>\n",
       "    </tr>\n",
       "  </tbody>\n",
       "</table>\n",
       "</div>"
      ],
      "text/plain": [
       "   y_Predict  Y_actual\n",
       "0   0.858620      0.78\n",
       "1   0.481191      0.54\n",
       "2   0.634286      0.64\n",
       "3   0.452133      0.47\n",
       "4   0.651258      0.70"
      ]
     },
     "execution_count": 37,
     "metadata": {},
     "output_type": "execute_result"
    }
   ],
   "source": [
    "Result.head()"
   ]
  },
  {
   "cell_type": "code",
   "execution_count": 38,
   "id": "4675d05c",
   "metadata": {},
   "outputs": [
    {
     "data": {
      "text/plain": [
       "Text(0, 0.5, 'Actual Chance')"
      ]
     },
     "execution_count": 38,
     "metadata": {},
     "output_type": "execute_result"
    },
    {
     "data": {
      "image/png": "[encoded data removed]",
      "text/plain": [
       "<Figure size 720x360 with 1 Axes>"
      ]
     },
     "metadata": {
      "needs_background": "light"
     },
     "output_type": "display_data"
    }
   ],
   "source": [
    "figure = plt.figure(figsize=(10,5))\n",
    "plt.scatter(Result[\"y_Predict\"],Result[\"Y_actual\"])\n",
    "plt.plot(Result[\"Y_actual\"],Result[\"Y_actual\"], c = \"red\")\n",
    "plt.xlabel(\"Predicted Chance\")\n",
    "plt.ylabel(\"Actual Chance\")"
   ]
  },
  {
   "cell_type": "markdown",
   "id": "0d78454e",
   "metadata": {},
   "source": [
    "## Applying Regulation Tequniques"
   ]
  },
  {
   "cell_type": "code",
   "execution_count": 41,
   "id": "3b8e8927",
   "metadata": {},
   "outputs": [],
   "source": [
    "#Calculating value of adjudted r2\n",
    "def adjusted_R2(lr ,feature , label) :\n",
    "    n = feature.shape[0]\n",
    "    p = feature.shape[1]\n",
    "    r = lr.score(feature , label) \n",
    "    return  1 - (1-r)*(n-1)/(n-p-1)"
   ]
  },
  {
   "cell_type": "code",
   "execution_count": 42,
   "id": "d9f68968",
   "metadata": {},
   "outputs": [
    {
     "data": {
      "text/plain": [
       "0.8198202264088412"
      ]
     },
     "execution_count": 42,
     "metadata": {},
     "output_type": "execute_result"
    }
   ],
   "source": [
    "adjusted_R2(lr1,x_test,y_test)"
   ]
  },
  {
   "cell_type": "markdown",
   "id": "114f80bb",
   "metadata": {},
   "source": [
    "#### Applying lasso techniques"
   ]
  },
  {
   "cell_type": "code",
   "execution_count": 53,
   "id": "75ddc8c9",
   "metadata": {},
   "outputs": [],
   "source": [
    "from sklearn.linear_model import Ridge ,RidgeCV, Lasso ,LassoCV, LarsCV , ElasticNet, ElasticNetCV\n"
   ]
  },
  {
   "cell_type": "code",
   "execution_count": 47,
   "id": "a9b7dd81",
   "metadata": {},
   "outputs": [],
   "source": [
    "#### First is defining cross validation or define shrinkage factor\n",
    "#### cv is cross validation where 49 random selected data is trained and one used for testing\n",
    "#### it will repeat same process 1000 times as condition is given here max_iter = 1000 and normalized data each time\n",
    "LassoCV = LassoCV(alphas= None , cv = 50, max_iter = 1000 , normalize=True )"
   ]
  },
  {
   "cell_type": "code",
   "execution_count": 48,
   "id": "8a6e9116",
   "metadata": {},
   "outputs": [
    {
     "data": {
      "text/plain": [
       "LassoCV(cv=50, normalize=True)"
      ]
     },
     "execution_count": 48,
     "metadata": {},
     "output_type": "execute_result"
    }
   ],
   "source": [
    "LassoCV.fit(x_train , y_train)"
   ]
  },
  {
   "cell_type": "code",
   "execution_count": 49,
   "id": "2c64720a",
   "metadata": {},
   "outputs": [
    {
     "data": {
      "text/plain": [
       "2.5304685541530637e-05"
      ]
     },
     "execution_count": 49,
     "metadata": {},
     "output_type": "execute_result"
    }
   ],
   "source": [
    "LassoCV.alpha_    #value of shrinkage factor is given as described"
   ]
  },
  {
   "cell_type": "code",
   "execution_count": 51,
   "id": "75209dd8",
   "metadata": {},
   "outputs": [
    {
     "data": {
      "text/plain": [
       "Lasso(alpha=2.5304685541530637e-05)"
      ]
     },
     "execution_count": 51,
     "metadata": {},
     "output_type": "execute_result"
    }
   ],
   "source": [
    "##### Fit model to control loss with given alpha values\n",
    "ls_mo = Lasso(alpha= LassoCV.alpha_)\n",
    "ls_mo.fit(x_train , y_train)"
   ]
  },
  {
   "cell_type": "code",
   "execution_count": 52,
   "id": "68fe51a4",
   "metadata": {},
   "outputs": [
    {
     "data": {
      "text/plain": [
       "0.8457056329852928"
      ]
     },
     "execution_count": 52,
     "metadata": {},
     "output_type": "execute_result"
    }
   ],
   "source": [
    "ls_mo.score(x_test , y_test)"
   ]
  },
  {
   "cell_type": "markdown",
   "id": "36628112",
   "metadata": {},
   "source": [
    "#### Ridge Regression"
   ]
  },
  {
   "cell_type": "code",
   "execution_count": 56,
   "id": "10ec548f",
   "metadata": {},
   "outputs": [],
   "source": [
    "#to find ridge model value of alphas required which given with numpy \n",
    "ridgecv = RidgeCV(alphas=np.random.uniform(0,10,100) , cv = 10 , normalize=True)"
   ]
  },
  {
   "cell_type": "code",
   "execution_count": 57,
   "id": "fea0d85c",
   "metadata": {},
   "outputs": [
    {
     "data": {
      "text/plain": [
       "array([1.341853  , 4.24183525, 5.13580753, 3.80663433, 1.11980187,\n",
       "       8.12586282, 2.17748973, 0.975071  , 1.23903884, 4.52354726,\n",
       "       0.91234114, 7.67915121, 4.68895565, 0.24317159, 3.89621257,\n",
       "       3.10502857, 6.25386086, 0.08407972, 0.58839446, 8.65582673,\n",
       "       5.87568823, 1.49575965, 3.43433973, 5.64481663, 5.09566882,\n",
       "       0.85780394, 0.21020016, 2.83437732, 6.13253134, 3.29109383,\n",
       "       2.08970541, 8.44048272, 9.58434837, 3.85693391, 9.9428517 ,\n",
       "       0.34269695, 6.41885084, 4.59320246, 3.15263473, 6.39386528,\n",
       "       5.35150491, 5.72816149, 3.89606719, 5.79637591, 9.82932236,\n",
       "       1.30847849, 8.70122623, 0.2233546 , 5.66352584, 4.91121514,\n",
       "       0.24726301, 9.15126209, 9.60429784, 9.37146971, 7.25144518,\n",
       "       4.62202695, 1.28727056, 4.36204581, 0.24355539, 8.79226462,\n",
       "       7.91663733, 8.58604497, 6.2307205 , 8.0505424 , 5.95794371,\n",
       "       4.87865835, 1.07999781, 7.82938965, 7.7809203 , 9.85362813,\n",
       "       4.53951337, 2.27869421, 5.97779113, 0.4443179 , 9.45705865,\n",
       "       2.84191026, 0.79276824, 3.16955328, 5.53628448, 6.24235289,\n",
       "       9.10680007, 3.93999823, 2.00708957, 8.42668536, 9.31002377,\n",
       "       3.69335835, 4.12827957, 2.59017714, 1.2421814 , 0.43324625,\n",
       "       8.9978763 , 8.19985352, 6.02395738, 5.46579678, 0.86454683,\n",
       "       0.94586238, 7.71628145, 4.96586785, 6.25473075, 5.96745677])"
      ]
     },
     "execution_count": 57,
     "metadata": {},
     "output_type": "execute_result"
    }
   ],
   "source": [
    "ridgecv.alphas"
   ]
  },
  {
   "cell_type": "code",
   "execution_count": 58,
   "id": "02958bab",
   "metadata": {},
   "outputs": [
    {
     "data": {
      "text/plain": [
       "RidgeCV(alphas=array([1.341853  , 4.24183525, 5.13580753, 3.80663433, 1.11980187,\n",
       "       8.12586282, 2.17748973, 0.975071  , 1.23903884, 4.52354726,\n",
       "       0.91234114, 7.67915121, 4.68895565, 0.24317159, 3.89621257,\n",
       "       3.10502857, 6.25386086, 0.08407972, 0.58839446, 8.65582673,\n",
       "       5.87568823, 1.49575965, 3.43433973, 5.64481663, 5.09566882,\n",
       "       0.85780394, 0.21020016, 2.83437732, 6.13253134, 3.29109383,\n",
       "       2....\n",
       "       4.53951337, 2.27869421, 5.97779113, 0.4443179 , 9.45705865,\n",
       "       2.84191026, 0.79276824, 3.16955328, 5.53628448, 6.24235289,\n",
       "       9.10680007, 3.93999823, 2.00708957, 8.42668536, 9.31002377,\n",
       "       3.69335835, 4.12827957, 2.59017714, 1.2421814 , 0.43324625,\n",
       "       8.9978763 , 8.19985352, 6.02395738, 5.46579678, 0.86454683,\n",
       "       0.94586238, 7.71628145, 4.96586785, 6.25473075, 5.96745677]),\n",
       "        cv=10, normalize=True)"
      ]
     },
     "execution_count": 58,
     "metadata": {},
     "output_type": "execute_result"
    }
   ],
   "source": [
    "ridgecv.fit(x_train , y_train)"
   ]
  },
  {
   "cell_type": "code",
   "execution_count": 60,
   "id": "10a64033",
   "metadata": {},
   "outputs": [
    {
     "data": {
      "text/plain": [
       "0.08407971778391699"
      ]
     },
     "execution_count": 60,
     "metadata": {},
     "output_type": "execute_result"
    }
   ],
   "source": [
    "ridgecv.alpha_"
   ]
  },
  {
   "cell_type": "code",
   "execution_count": 61,
   "id": "166234cf",
   "metadata": {},
   "outputs": [
    {
     "data": {
      "text/plain": [
       "Ridge(alpha=0.08407971778391699)"
      ]
     },
     "execution_count": 61,
     "metadata": {},
     "output_type": "execute_result"
    }
   ],
   "source": [
    "rid = Ridge(alpha=ridgecv.alpha_)\n",
    "rid.fit(x_train , y_train)"
   ]
  },
  {
   "cell_type": "code",
   "execution_count": 62,
   "id": "697e97e2",
   "metadata": {},
   "outputs": [
    {
     "data": {
      "text/plain": [
       "0.8455946877446089"
      ]
     },
     "execution_count": 62,
     "metadata": {},
     "output_type": "execute_result"
    }
   ],
   "source": [
    "rid.score(x_test,y_test)"
   ]
  },
  {
   "cell_type": "markdown",
   "id": "1fb610ed",
   "metadata": {},
   "source": [
    " With lasso and ridge no improvement in accuracy observed"
   ]
  },
  {
   "cell_type": "markdown",
   "id": "a68cabfa",
   "metadata": {},
   "source": [
    "#### Elasticnet  Regression"
   ]
  },
  {
   "cell_type": "code",
   "execution_count": 64,
   "id": "799a0697",
   "metadata": {},
   "outputs": [],
   "source": [
    "ElasticNetCV = ElasticNetCV(alphas = None , cv = 10)"
   ]
  },
  {
   "cell_type": "code",
   "execution_count": 65,
   "id": "3532abd2",
   "metadata": {},
   "outputs": [
    {
     "data": {
      "text/plain": [
       "ElasticNetCV(cv=10)"
      ]
     },
     "execution_count": 65,
     "metadata": {},
     "output_type": "execute_result"
    }
   ],
   "source": [
    "ElasticNetCV.fit(x_train,y_train)"
   ]
  },
  {
   "cell_type": "code",
   "execution_count": 66,
   "id": "a4f88fbf",
   "metadata": {},
   "outputs": [
    {
     "data": {
      "text/plain": [
       "0.001860632420865413"
      ]
     },
     "execution_count": 66,
     "metadata": {},
     "output_type": "execute_result"
    }
   ],
   "source": [
    "ElasticNetCV.alpha_"
   ]
  },
  {
   "cell_type": "code",
   "execution_count": 67,
   "id": "b812540a",
   "metadata": {},
   "outputs": [
    {
     "data": {
      "text/plain": [
       "0.5"
      ]
     },
     "execution_count": 67,
     "metadata": {},
     "output_type": "execute_result"
    }
   ],
   "source": [
    "ElasticNetCV.l1_ratio"
   ]
  },
  {
   "cell_type": "code",
   "execution_count": 68,
   "id": "4cb2e2ad",
   "metadata": {},
   "outputs": [],
   "source": [
    "Elastic_lr = ElasticNet(alpha=ElasticNetCV.alpha_ , l1_ratio= ElasticNetCV.l1_ratio)"
   ]
  },
  {
   "cell_type": "code",
   "execution_count": 70,
   "id": "2b3d2a20",
   "metadata": {},
   "outputs": [
    {
     "data": {
      "text/plain": [
       "ElasticNet(alpha=0.001860632420865413)"
      ]
     },
     "execution_count": 70,
     "metadata": {},
     "output_type": "execute_result"
    }
   ],
   "source": [
    "Elastic_lr.fit(x_train,y_train)"
   ]
  },
  {
   "cell_type": "code",
   "execution_count": 71,
   "id": "58715049",
   "metadata": {},
   "outputs": [
    {
     "data": {
      "text/plain": [
       "0.8464012025641322"
      ]
     },
     "execution_count": 71,
     "metadata": {},
     "output_type": "execute_result"
    }
   ],
   "source": [
    "Elastic_lr.score(x_test,y_test)"
   ]
  },
  {
   "cell_type": "markdown",
   "id": "145ab2f7",
   "metadata": {},
   "source": [
    "Again accuracy is not increased. All model are providing same range of accuracy"
   ]
  },
  {
   "cell_type": "code",
   "execution_count": null,
   "id": "64e1a2aa",
   "metadata": {},
   "outputs": [],
   "source": []
  }
 ],
 "metadata": {
  "kernelspec": {
   "display_name": "Python 3",
   "language": "python",
   "name": "python3"
  },
  "language_info": {
   "codemirror_mode": {
    "name": "ipython",
    "version": 3
   },
   "file_extension": ".py",
   "mimetype": "text/x-python",
   "name": "python",
   "nbconvert_exporter": "python",
   "pygments_lexer": "ipython3",
   "version": "3.8.8"
  }
 },
 "nbformat": 4,
 "nbformat_minor": 5
}
